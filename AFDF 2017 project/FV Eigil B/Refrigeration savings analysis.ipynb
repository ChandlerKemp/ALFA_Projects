{
 "cells": [
  {
   "cell_type": "markdown",
   "metadata": {},
   "source": [
    "# Refrigeration System Analysis\n",
    "\n",
    "This  analyis estimates the fuel savings that could be achieved by upgrading the refrigeration system on board F/V Eigil B. The calculation has three parts: first, parameters of the refrigeration systems are determined. Second, the fuel consumption rate of the generators is calculated as a function of load. Finally, the annual fuel consumption due to refrigeration is calculated based on the generator fuel consumption curves and the refrigeration load.\n",
    "\n",
    "The analysis uses a simple model of new systems. The model includes a compressor (or two), two circulation pumps with vfd control, a condenser pump, a compressor cooling pump and a general term for system efficiency. A VFD on the compressor is not included, because it was found to have little value. The performance of the new compressors was looked up at a range of saturated suction temperatures and the data were used to estimate pump-down time.\n",
    "\n",
    "The model of the old system uses the same components, but without any VFD control on the circulating pumps. Because I haven't been able to find performance data for the old compressor, its assumed to run at constant power rather than a power dependent on operating conditions.\n",
    "\n",
    "The analysis is conducted in a Jupyter Notebook. A Jupyter Notebook allows text, figures and computer code to be presented in one document. Here, text is presented in black font fully left justified, while computer code (Python in this case) is presented a color-coded font and indented. Variables are defined and calculations are performed in the computer code \"cells,\" while explanations are presented in the text \"cells.\""
   ]
  },
  {
   "cell_type": "code",
   "execution_count": 1,
   "metadata": {
    "collapsed": true
   },
   "outputs": [],
   "source": [
    "# This bit of code imports some software that the analysis uses \n",
    "# and defines some constants\n",
    "import numpy as np\n",
    "import matplotlib.pyplot as plt\n",
    "import copy\n",
    "%matplotlib inline\n",
    "water_heat_cap = 8.35 # btu/gal-F\n",
    "joule_per_btu = 1055 \n",
    "sec_per_hr = 3600\n",
    "watt_per_kW = 1000\n",
    "kW_per_hp = 0.746"
   ]
  },
  {
   "cell_type": "markdown",
   "metadata": {},
   "source": [
    "## Freezer load"
   ]
  },
  {
   "cell_type": "markdown",
   "metadata": {},
   "source": [
    "### General cooling conditions\n",
    "This section defines variables that are consistent for all of the proposed systems. \"system_eff\" (defined as 0.95 below) is the ratio of true system efficiency to manufacturer specified system efficiency. It's a factor to allow for losses that are not included in the manufacturer's estimates. It's difficult to know what the factor should be for this system, so 0.95 was chosen as a reasonable place holder and it can be adjusted to explore the sensitivity of results to system efficiency."
   ]
  },
  {
   "cell_type": "code",
   "execution_count": 2,
   "metadata": {
    "collapsed": true
   },
   "outputs": [],
   "source": [
    "# Assumed system efficiency outside of the compressor\n",
    "system_eff = 0.95"
   ]
  },
  {
   "cell_type": "code",
   "execution_count": 3,
   "metadata": {
    "collapsed": true
   },
   "outputs": [],
   "source": [
    "sea_temp = 59\n",
    "target_temp = 33\n",
    "aft_tank_capacity = 19448 # gallons\n",
    "forward_tank_capacity = 14960 # gallons\n",
    "n_aft_tank_pulldown = 33 # pulldowns per year\n",
    "n_all_tank_pulldown = 1 # pulldowns per year\n",
    "lbs_fish_cooled = 1.588e6\n",
    "hrs_holding_aft_temp = 48.3\n",
    "hrs_holding_all_temp = 0 # Herring season only--no data available\n",
    "circ_pump_cap = 7.5 * 0.746 # kW\n",
    "n_circ_pump = 2\n",
    "condenser_pump_cap = 3 * 0.746 # kW\n",
    "compressor_cool_pump = 2 * 0.746 # kW\n",
    "hrs_filling_tanks = (64/60 * n_aft_tank_pulldown + 1.9 * \\\n",
    "                     n_all_tank_pulldown)*2\n",
    "# rate at which the holds warm when at temperature (deg F/hr)\n",
    "heat_infiltration_33 = 1.25 \n",
    "# Assumed VFD efficiency based on Z1000 Specification\n",
    "# Section 15172\n",
    "vfd_eff = 0.98 "
   ]
  },
  {
   "cell_type": "markdown",
   "metadata": {},
   "source": [
    "### New Bitzer system\n",
    "The following data are from Bitzer Software v6.6.0 Open Drive Recips. Model W6FA-K with R717 (NH3). Condensing SDT 86 deg F. Liq subc 15 deg F, Suction gas superheat 15 deg F. Motor speed 1750/min, coupling 1:1. The parameter min_power is the power required to run the compressor at the minimum speed (900 r/min) at the minimum sst (24 deg F)."
   ]
  },
  {
   "cell_type": "code",
   "execution_count": 4,
   "metadata": {
    "collapsed": false
   },
   "outputs": [],
   "source": [
    "n_comp = 1\n",
    "#deg F\n",
    "bitzer_sst = np.array([42, 40, 38, 36, 34, 32, 30, 28, 26, 24]) \n",
    "bitzer_capacity = np.array([747, 714, 682, 651, 621, 591, 563, \\\n",
    "                535, 508, 482]) *1e3*n_comp*system_eff #btu/hr\n",
    "bitzer_power = np.array([28.3, 28.4, 28.5, 28.5, 28.5, 28.4, \\\n",
    "    28.2, 28.0, 27.8, 27.5]) * n_comp #kW"
   ]
  },
  {
   "cell_type": "markdown",
   "metadata": {},
   "source": [
    "The COP of the system is not used directly in this program, but it is a useful benchmark nonetheless. The COP is equal to capacity/power, as shown below."
   ]
  },
  {
   "cell_type": "code",
   "execution_count": 5,
   "metadata": {
    "collapsed": false
   },
   "outputs": [
    {
     "name": "stdout",
     "output_type": "stream",
     "text": [
      "The COP is \n",
      " 7.74, 7.37, 7.01, 6.69, 6.39, 6.10, 5.85, 5.60, 5.36, 5.14\n",
      "For Sat. Suction Temps of (deg F):\n",
      " [42 40 38 36 34 32 30 28 26 24]\n"
     ]
    }
   ],
   "source": [
    "strout = ''\n",
    "factor = 1 /  system_eff * joule_per_btu / sec_per_hr \\\n",
    "    / watt_per_kW\n",
    "for cop in bitzer_capacity / bitzer_power * factor:\n",
    "    strout += '{:1.2f}'.format(cop) + ', '\n",
    "print(\"The COP is \\n\", strout[:-2])\n",
    "print(\"For Sat. Suction Temps of (deg F):\\n\", bitzer_sst)"
   ]
  },
  {
   "cell_type": "markdown",
   "metadata": {},
   "source": [
    "### New Frascold system"
   ]
  },
  {
   "cell_type": "markdown",
   "metadata": {},
   "source": [
    "The following data are from Frascold Selection Software 3 v1.5. R507 model V20-59y, superheat = 15 F, useful fraction of superheat = 100%, condensing temp = 77, subcooling = 12 F."
   ]
  },
  {
   "cell_type": "code",
   "execution_count": 6,
   "metadata": {
    "collapsed": false
   },
   "outputs": [
    {
     "name": "stdout",
     "output_type": "stream",
     "text": [
      "The COP is: \n",
      " 7.79, 7.49, 7.20, 6.92, 6.66, 6.41, 6.18, 5.95, 5.74, \n",
      "5.53, 5.34, 5.15, 4.98\n",
      "The capacity (kbtu/hr) is: \n",
      " 641, 620, 598, 577, 557, 537, 517, 498, 479, \n",
      "461, 444, 427, 410\n",
      "For Saturated Suction Temps of (deg F):\n",
      " 44.6, 42.8, 41.0, 39.2, 37.4, 35.6, 33.8, 32.0, 30.2, \n",
      "28.4, 23.0\n"
     ]
    }
   ],
   "source": [
    "n_frascold = 2 # number of compressors in quote\n",
    "# deg F\n",
    "frascold_sst = np.array([7,6,5,4,3,2,1,0,-1,-2,-5])*1.8+32\n",
    "#btu/hr\n",
    "frascold_capacity = np.array([98918,95580,92259,89016,85849,\\\n",
    "        82759,79745,76806,73942,71152,68436, 65793,63221])\\\n",
    "        /joule_per_btu*sec_per_hr * n_frascold * system_eff \n",
    "frascold_power = np.array([12.697, 12.763, 12.817, 12.859, \\\n",
    "        12.888, 12.905, 12.911, 12.905, 12.889, 12.862, \\\n",
    "        12.824, 12.77, 12.7]) * n_frascold #kW\n",
    "strout = ''\n",
    "counter =0\n",
    "for cop in frascold_capacity / frascold_power * factor:\n",
    "    counter += 1\n",
    "    strout += '{:1.2f}'.format(cop) + ', '\n",
    "    if counter % 9 == 0: strout += '\\n'\n",
    "print(\"The COP is: \\n\", strout[:-2])\n",
    "strout = ''\n",
    "counter =0\n",
    "for cap in frascold_capacity:\n",
    "    counter += 1\n",
    "    strout += '{:0.0f}'.format(cap/1000) + ', '\n",
    "    if counter % 9 == 0: strout += '\\n'\n",
    "print(\"The capacity (kbtu/hr) is: \\n\", strout[:-2])\n",
    "strout = ''\n",
    "counter = 0\n",
    "for sst in frascold_sst:\n",
    "    counter += 1\n",
    "    strout += '{:2.1f}'.format(sst) + ', '\n",
    "    if counter % 9 == 0: strout +='\\n'\n",
    "print(\"For Saturated Suction Temps of (deg F):\\n\", strout[:-2])"
   ]
  },
  {
   "cell_type": "markdown",
   "metadata": {},
   "source": [
    "### Old Mycom system\n",
    "\n",
    "Capacity and power data for the Mycom N4B compressor are not available, so the power is simply estimated based on the motor rating. This is one of the largest sources of uncertainty in the analysis."
   ]
  },
  {
   "cell_type": "code",
   "execution_count": 7,
   "metadata": {
    "collapsed": true
   },
   "outputs": [],
   "source": [
    "motor_power = 40 * 0.746 # kW\n",
    "aft_pump_down_time = 13.5 # hrs\n",
    "total_time = 504.2 #hrs\n",
    "motor_load_factor = 0.65 # assumed"
   ]
  },
  {
   "cell_type": "code",
   "execution_count": 8,
   "metadata": {
    "collapsed": false
   },
   "outputs": [
    {
     "name": "stdout",
     "output_type": "stream",
     "text": [
      "The COP is: \n",
      " 7.54, 6.32, 5.15, \n",
      "The capacity (kbtu/hr) is: \n",
      " 729, 603, 477\n"
     ]
    }
   ],
   "source": [
    "mycom_sst = np.array([42, 34, 24])\n",
    "mycom_ssp = np.array([76, 65, 53])\n",
    "mycom_sdp = np.array([169, 169, 169])\n",
    "# Power and capacity are for the N4WB, a newer model with a \n",
    "# higher capacity. The values for the N4WB derated so that\n",
    "# the maximum power is 40 hp.\n",
    "mycom_capacity = np.array([1502.7, 1242.5, 982]) * 1e3 # Btu/hr\n",
    "mycom_power = np.array([82.4, 81.3, 78.8]) * kW_per_hp # kW\n",
    "derating = motor_power/max(mycom_power)\n",
    "mycom_capacity *= derating\n",
    "mycom_power *= derating\n",
    "counter =0\n",
    "strout = ''\n",
    "for cop in mycom_capacity / mycom_power * factor:\n",
    "    counter += 1\n",
    "    strout += '{:1.2f}'.format(cop) + ', '\n",
    "    if counter % 9 == 0: strout += '\\n'\n",
    "print(\"The COP is: \\n\", strout)\n",
    "strout = ''\n",
    "counter =0\n",
    "for cap in mycom_capacity:\n",
    "    counter += 1\n",
    "    strout += '{:0.0f}'.format(cap/1000) + ', '\n",
    "    if counter % 9 == 0: strout += '\\n'\n",
    "print(\"The capacity (kbtu/hr) is: \\n\", strout[:-2])"
   ]
  },
  {
   "cell_type": "markdown",
   "metadata": {},
   "source": [
    "### Circulation pump calculations\n",
    "The circulation pumps account for over 1/3 of the power consumed. They are particularly impactful because not only do they require power to run, all of the power that they use ultimately ends up as heat that must be removed by the compressor--the more power the circulation pumps use, the more work must be done by the compressor.\n",
    "\n",
    "This calculation considers how much water must be moved by the circulation pumps, and the associated power demand"
   ]
  },
  {
   "cell_type": "code",
   "execution_count": 9,
   "metadata": {
    "collapsed": false
   },
   "outputs": [
    {
     "name": "stdout",
     "output_type": "stream",
     "text": [
      "The minimum allowable pump speed ratios for the Frascold unit at \n",
      " the listed operating conditions are: \n",
      "0.84, 0.81, 0.79, 0.76, 0.73, 0.70, 0.68, 0.65, 0.63, \n",
      "0.61, 0.58, 0.56, 0.54\n",
      "The minimum allowable pump speed ratios for the Bitzer unit at \n",
      " the listed operating conditions are: \n",
      "0.93, 0.89, 0.85, 0.81, 0.78, 0.74, 0.70, 0.67, 0.63, \n",
      "0.60\n"
     ]
    }
   ],
   "source": [
    "pump_flow = aft_tank_capacity / (64/60) # gallons/hr\n",
    "# maximum allowable change in water temperature in the \n",
    "# evaporator (deg F)\n",
    "evap_temp_delta = 5 \n",
    "f_min_flow = frascold_capacity / water_heat_cap \\\n",
    "    / evap_temp_delta # gal/hr\n",
    "b_min_flow = bitzer_capacity / water_heat_cap \\\n",
    "    / evap_temp_delta # gal/hr\n",
    "b_circ_vfd_ratio = b_min_flow / pump_flow # pump speed ratio\n",
    "f_circ_vfd_ratio = f_min_flow / pump_flow\n",
    "strout = \"The minimum allowable pump speed ratios for the Frascold \"\n",
    "strout += \"unit at \\n the listed operating conditions are: \"\n",
    "print(strout)\n",
    "strout = ''\n",
    "counter = 0\n",
    "for ratio in f_circ_vfd_ratio:\n",
    "    counter += 1\n",
    "    strout += '{:1.2F}'.format(ratio) + ', '\n",
    "    if counter % 9 == 0: strout += '\\n'\n",
    "strout = strout[:-2]\n",
    "print(strout)\n",
    "strout = \"The minimum allowable pump speed ratios for the Bitzer\"\n",
    "strout += \" unit at \\n the listed operating conditions are: \"\n",
    "print(strout)\n",
    "strout = ''\n",
    "counter = 0\n",
    "for ratio in b_circ_vfd_ratio:\n",
    "    counter += 1\n",
    "    strout += '{:1.2F}'.format(ratio) + ', '\n",
    "    if counter % 9 == 0: strout += '\\n'\n",
    "strout = strout[:-2]\n",
    "print(strout)\n",
    "\n",
    "def noncomp_loads(vfd, circ_vfd_ratio=1):\n",
    "    \"\"\"\n",
    "    This function calculates the non-compressor loads associated\n",
    "    with refrigeration.\n",
    "    :param vfd: Is a vfd installed on the circ pumps? \n",
    "        (True/False)\n",
    "    :param circ_vfd_ratio: optional input number to define pump \n",
    "        speed (ratio)\n",
    "    :return noncomp_loads: Non-compressor refrigeration loads \n",
    "        (kW)\n",
    "    \"\"\"\n",
    "    circ_load = circ_pump_cap * (circ_vfd_ratio)**3 * \\\n",
    "        n_circ_pump\n",
    "    if vfd:\n",
    "        circ_load /= vfd_eff\n",
    "    noncomp_loads = circ_load + condenser_pump_cap + \\\n",
    "        compressor_cool_pump\n",
    "    return noncomp_loads\n",
    "other_loads_basic = noncomp_loads(False)"
   ]
  },
  {
   "cell_type": "code",
   "execution_count": 10,
   "metadata": {
    "collapsed": true
   },
   "outputs": [],
   "source": [
    "b_other_loads_vfd = noncomp_loads(True, circ_vfd_ratio = \\\n",
    "                                  b_circ_vfd_ratio)\n",
    "f_other_loads_vfd = noncomp_loads(True, circ_vfd_ratio = \\\n",
    "                                  f_circ_vfd_ratio)"
   ]
  },
  {
   "cell_type": "markdown",
   "metadata": {},
   "source": [
    "### Heat infiltration from ambient\n",
    "The rate at which the compressor cools the hold is affected by the infiltration of heat from ambient. Based on interviews with the skipper, the hold temperature rises by about 1.25 deg F/hr once it is at temp. The rate of temperature change ($dT_{hold}$) with respect to time ($dt$) is defined by the equation below: \n",
    "$$\\frac{d T_{hold}}{d t} = (T_{ambient}-T_{hold}) * UA $$ \n",
    "\n",
    "where $U$ is the average thermal conductivity of the hold and $A$ is the surface area of the hold. Since $UA$ and $T_{ambient}$ are constant for a given hold, the rate of heat loss is linearly related to the temperature of the hold. It's assumed that the rate of temperature change of both the aft and forward holds is the same. The heat infiltration rate associated with each SST for the two new compressors is calculated below simply by assuming that the rate of temperature change increases linearly from 0 when the water is at sea temperature to heat_infiltration_33 when the water is at 33 deg F."
   ]
  },
  {
   "cell_type": "code",
   "execution_count": 11,
   "metadata": {
    "collapsed": false
   },
   "outputs": [],
   "source": [
    "# a different heat infiltration vector is defined for each \n",
    "# system because they have different amounts of operating \n",
    "# condition data which requires vectors of different\n",
    "# lengths.\n",
    "f_heat_infiltration = np.linspace(0, heat_infiltration_33,\\\n",
    "    len(frascold_capacity)) * water_heat_cap #btu/hr/gal\n",
    "b_heat_infiltration = np.linspace(0, heat_infiltration_33, \\\n",
    "    len(bitzer_capacity)) * water_heat_cap #btu/hr/gal\n",
    "m_heat_infiltration = np.linspace(0, heat_infiltration_33, \\\n",
    "    len(mycom_capacity)) * water_heat_cap #btu/hr/gal\n",
    "\n",
    "def heat_load_fcn(hold_volume, heat_infiltration_rate, \\\n",
    "                  circ_vfd_ratio=1):\n",
    "    \"\"\"\n",
    "    This function calculates the total heating load on the \n",
    "    system.\n",
    "    :param circ_vfd_ratio: Defines pump speed as a ratio of pump \n",
    "        AC drive frequency to line frequency\n",
    "    :param hold_volume: volume of the holds being cooled (gal)\n",
    "    :param heat_infiltration_rate: Rate at which heat enters the\n",
    "        hold from ambient (btu/hr/gal)\n",
    "    :return : total heating load (btu/hr)\n",
    "    \"\"\"\n",
    "    amb_load = hold_volume * heat_infiltration_rate # gal/hr\n",
    "    circ_load = circ_pump_cap * (circ_vfd_ratio)**3 * \\\n",
    "        n_circ_pump\n",
    "    return circ_load /joule_per_btu * watt_per_kW * sec_per_hr \\\n",
    "        + amb_load"
   ]
  },
  {
   "cell_type": "markdown",
   "metadata": {},
   "source": [
    "## Auxiliary Generator BSFC\n",
    "The fuel consumption as a function of load is calculated based on manufacturer's data: Engine Performance Curve John Deere  4045TFM75. John Deere. 2007.  <http://silniki.info.pl/upload/pdf/karta%20produktu%204045TFM75%20\n",
    "55%20kW%20@1500%20&%201800.pdf>\n",
    "\n",
    "The figure shows that a linear equation fits the data well. The fit shown in the figure below is used in the remainder of the report to estimate fuel consumption."
   ]
  },
  {
   "cell_type": "code",
   "execution_count": 12,
   "metadata": {
    "collapsed": false
   },
   "outputs": [
    {
     "name": "stdout",
     "output_type": "stream",
     "text": [
      "The BSFC shown below is for the engine only. It does \n",
      "not include the inefficiency of the motor side of the generator.\n",
      "The estimated BSFC at a load of 36.9 kW is  240.1  gram/kWh\n",
      "The estimated thermal efficiency of the generator at a load \n",
      " of 32.8 kW is 30.0%\n"
     ]
    },
    {
     "data": {
      "image/png": "[encoded data removed]",
      "text/plain": [
       "<matplotlib.figure.Figure at 0x7f03917e6208>"
      ]
     },
     "metadata": {},
     "output_type": "display_data"
    }
   ],
   "source": [
    "Aux1 = {}\n",
    "Aux1['Capacity_kW'] = 65\n",
    "Aux1['Fuel_gal_hr'] = np.array([1.5, 2.8, 4.0, 5.2])\n",
    "# Note: According to the doc, the engine is rated to 73 kW, \n",
    "# although the generator on board is rated to 65 kW. The 73 kW \n",
    "# engine rating is used here. The generator load should be \n",
    "# divided by an efficiency of 65/73 to get the engine load.\n",
    "ratedpower = 73 # kW\n",
    "Aux1['gen_eff'] = 65/73\n",
    "Aux1['Power_kW'] = ratedpower * np.array([0.25, 0.5, 0.75, 1.0])\n",
    "Aux1['bsfc_coeffs'] = np.polyfit(Aux1['Power_kW'], \\\n",
    "                                 Aux1['Fuel_gal_hr'], 1)\n",
    "powertest = np.linspace(0, ratedpower, 100)\n",
    "fueltest = Aux1['bsfc_coeffs'][0]*powertest + \\\n",
    "    Aux1['bsfc_coeffs'][1]\n",
    "plt.plot(Aux1['Power_kW'], Aux1['Fuel_gal_hr'], 'o', \\\n",
    "         label='Mfg data')\n",
    "plt.plot(powertest, fueltest, label='fit')\n",
    "plt.ylabel('Fuel (gal/hr)')\n",
    "plt.xlabel('Engine Power (kW)')\n",
    "plt.legend(loc='best')\n",
    "\n",
    "# ---- Sanity check-----\n",
    "# Used to pick a central value to check the efficiency\n",
    "testpoint = int(len(powertest)/2) \n",
    "fuel_density = 3179 # assumed fuel density (gram/gallon)\n",
    "# gram/kWh\n",
    "bsfc = fueltest[testpoint]/powertest[testpoint] * fuel_density\n",
    "eng_load = '{:2.1f}'.format(powertest[testpoint])\n",
    "print(\"The BSFC shown below is for the engine only. It does\" +\\\n",
    "     \" \\nnot include the inefficiency of the motor side of the \" +\\\n",
    "     \"generator.\")\n",
    "print(\"The estimated BSFC at a load of \" + eng_load + \\\n",
    "      ' kW is ', '{:3.1f}'.format(bsfc), ' gram/kWh')\n",
    "gen_eff = powertest[testpoint] * Aux1['gen_eff']\\\n",
    "    / (134000 * fueltest[testpoint] / 3412)\n",
    "gen_eff = '{:2.1f}'.format(gen_eff*100)\n",
    "gen_load = '{:2.1f}'.format(powertest[testpoint] * \\\n",
    "                            Aux1['gen_eff'])\n",
    "print(\"The estimated thermal efficiency of the generator at \" +\\\n",
    "    \"a load \\n of \" + gen_load + \" kW is \" + gen_eff + \"%\")"
   ]
  },
  {
   "cell_type": "markdown",
   "metadata": {},
   "source": [
    "The second auxiliary generator has the same engine (John Deere 4045TFM75), but the generator is rated to 100 kW rather than 65 kW. Data sheets for the 4045TFM75 reveals that the engine is rated to 80 kW under M1 conditions (operating over 3000 hours per year and load factors over 65%) and to 101 kW under M3 conditions (up to 2000 hours per year, and load factors under 50%). Since the both auxiliary generators use the same engine, the same fuel consumption curve is used for each."
   ]
  },
  {
   "cell_type": "code",
   "execution_count": 13,
   "metadata": {
    "collapsed": false
   },
   "outputs": [],
   "source": [
    "Aux2 = copy.copy(Aux1)\n",
    "Aux2['Capacity_kW'] = 100"
   ]
  },
  {
   "cell_type": "markdown",
   "metadata": {},
   "source": [
    "## Fuel consumption calculation\n",
    "There are three modes considered here:\n",
    "1.) Filling the tanks with water\n",
    "2.) Pulling the hold down to temperature\n",
    "3.) Maintaining hold temperature"
   ]
  },
  {
   "cell_type": "markdown",
   "metadata": {},
   "source": [
    "### Filling tanks"
   ]
  },
  {
   "cell_type": "code",
   "execution_count": 14,
   "metadata": {
    "collapsed": false
   },
   "outputs": [
    {
     "name": "stdout",
     "output_type": "stream",
     "text": [
      "Fuel used to fill fish holds (gal):  85.1071716923\n",
      "Fuel used to fill fish holds w/ vfd (gal):  86.389767033\n",
      "Total season hours to fill and empty tanks:  74.2\n",
      "Calculated engine load (kW):  12.567230769230768\n",
      "Fuel consumption rate with both circ pumps running \n",
      "at capacity (gal/hr):  1.14699692308\n"
     ]
    }
   ],
   "source": [
    "load_kw = n_circ_pump * circ_pump_cap / Aux1['gen_eff']\n",
    "load_kw_vfd = load_kw / vfd_eff\n",
    "fuel_a = Aux1['bsfc_coeffs'][0]\n",
    "fuel_b = Aux1['bsfc_coeffs'][1]\n",
    "filling_fuel = (fuel_a*load_kw + fuel_b) * hrs_filling_tanks\n",
    "filling_fuel_vfd = (fuel_a*load_kw_vfd + fuel_b) * \\\n",
    "    hrs_filling_tanks\n",
    "print(\"Fuel used to fill fish holds (gal): \", filling_fuel)\n",
    "print(\"Fuel used to fill fish holds w/ vfd (gal): \", \\\n",
    "      filling_fuel_vfd)\n",
    "print('Total season hours to fill and empty tanks: ', \\\n",
    "      hrs_filling_tanks)\n",
    "print('Calculated engine load (kW): ', load_kw)\n",
    "print('Fuel consumption rate with both circ pumps running \\n' + \\\n",
    "    'at capacity (gal/hr): ', fuel_a*load_kw + fuel_b)"
   ]
  },
  {
   "cell_type": "markdown",
   "metadata": {},
   "source": [
    "### Pulling down hold\n",
    "The following function will be used repeatedly to estimate fuel consumption per hold pull down. The function takes the hold capacity and compressor properties as inputs and calculates time to cool the hold and fuel required to cool the hold. The sea temperature, target temperature and engine properties defined above are also used by the function, but they are not passed to the function as input arguments; instead, they simply reference the values defined in earlier code cells."
   ]
  },
  {
   "cell_type": "code",
   "execution_count": 15,
   "metadata": {
    "collapsed": true
   },
   "outputs": [],
   "source": [
    "def pulldown_calculator(water_vol, comp_sst, comp_power, \\\n",
    "                        comp_cap, other_loads, heat_load):\n",
    "    \"\"\" A function for calculating consumption of a compressor \n",
    "        during pull down\n",
    "    :param water_vol: volume of water to be cooled (gallons)\n",
    "    :param comp_sst: array of saturated suction temperatures \n",
    "        associated with compressor data (F)\n",
    "    :param comp_power: array of compressor power requirements \n",
    "        associated with the listed SSTs (kW)\n",
    "    :param comp_cap: array of compressor capacities associated \n",
    "        with the listed SSTs (btu/hr)\n",
    "    :param other_loads: non-compressor loads on the generator \n",
    "        (kW)\n",
    "    :param heat_load: heat entering the hold can be an array \n",
    "        or a scalar (btu/hr)\n",
    "    :return time: time to pull down hold (hrs)\n",
    "    :return fuel: fuel burned during pull down (gallon)\n",
    "    \"\"\"\n",
    "    \n",
    "    btus_removed = water_vol * water_heat_cap * (sea_temp - \\\n",
    "                                                 target_temp)\n",
    "    if len(comp_sst) > 1:\n",
    "        delta_sst = comp_sst[0] - comp_sst[1]\n",
    "        btu_per_sst = btus_removed/(delta_sst * len(comp_sst))\n",
    "    else:\n",
    "        btu_per_sst = btus_removed\n",
    "        delta_sst = 1\n",
    "    times = btu_per_sst * delta_sst / (comp_cap - heat_load)\n",
    "    fuel_a = Aux1['bsfc_coeffs'][0]\n",
    "    fuel_b = Aux1['bsfc_coeffs'][1]\n",
    "    fuel = sum((fuel_a * (comp_power+other_loads) / \\\n",
    "                Aux1['gen_eff'] + fuel_b)*times)\n",
    "    time = sum(times)\n",
    "    return time, fuel"
   ]
  },
  {
   "cell_type": "markdown",
   "metadata": {},
   "source": [
    "#### Salmon season: Aft holds only\n",
    "\n",
    "This section calculates the fuel consumed during to pump down the two aft holds during the salmon season. It uses the function defined above to calculate fuel consumption per pump down cycle, then multiplies by the number of cycles."
   ]
  },
  {
   "cell_type": "code",
   "execution_count": 16,
   "metadata": {
    "collapsed": false
   },
   "outputs": [
    {
     "name": "stdout",
     "output_type": "stream",
     "text": [
      "Time to pull down both aft holds once with Bitzer and VFD (hrs):\n",
      "  10.2 \n",
      "\n",
      "Time to pull down hold per salmon season with Bitzer and VFD \n",
      " (hrs):  335.4 \n",
      "\n",
      "Fuel used to pump down holds during salmon season with Bitzer \n",
      " and VFD (gal): 1027.2 \n",
      "\n",
      "Fuel used to pump down holds during salmon season with Bitzer \n",
      " and no VFD (gal):  1278.6 \n",
      "\n",
      "Time to pull down both aft holds once with Frascold and vfd (hrs):\n",
      "  13.8 \n",
      "\n",
      "Time to pull down hold per salmon season with Frascold (hrs):\n",
      "  456.3 \n",
      "\n",
      "Fuel used to pump down holds during salmon season with Frascold \n",
      "and vfd (gal):  1267 \n",
      "\n",
      "Time to pump down aft holds once with Frascold and no vfd (hr):\n",
      "  15 \n",
      "\n",
      "Fuel used to pump down holds during salmon season with Frascold \n",
      "and no vfd (gal):\n",
      "  1693 \n",
      "\n",
      "Time to pull down both aft holds once with Mycom (hrs):\n",
      "  11.0 \n",
      "\n",
      "Time to pull down hold per salmon season with mycom (hrs):\n",
      "  365 \n",
      "\n",
      "Fuel used to pump down holds during salmon season with Mycom (gal):\n",
      "  1322 \n",
      "\n"
     ]
    }
   ],
   "source": [
    "# --------------------------- NO VFD--------------------------------\n",
    "## ---------------Bitzer\n",
    "heat_load = heat_load_fcn(aft_tank_capacity, \\\n",
    "    b_heat_infiltration, circ_vfd_ratio = 1)\n",
    "b_time, b_fuel = pulldown_calculator(aft_tank_capacity,\\\n",
    "    bitzer_sst, bitzer_power, bitzer_capacity, \\\n",
    "    other_loads_basic, heat_load)\n",
    "b_salmon_pumpdown_fuel = b_fuel * n_aft_tank_pulldown\n",
    "\n",
    "## ----------Frascold\n",
    "heat_load = heat_load_fcn(aft_tank_capacity, \\\n",
    "    f_heat_infiltration, circ_vfd_ratio = 1)\n",
    "f_time, f_fuel = pulldown_calculator(aft_tank_capacity, \\\n",
    "    frascold_sst, frascold_power, frascold_capacity, \\\n",
    "    other_loads_basic, heat_load)\n",
    "f_salmon_pumpdown_fuel = f_fuel * n_aft_tank_pulldown\n",
    "heat_load = heat_load_fcn(aft_tank_capacity, \\\n",
    "    m_heat_infiltration, circ_vfd_ratio = 1)\n",
    "m_time, m_fuel = pulldown_calculator(aft_tank_capacity, \n",
    "    mycom_sst, mycom_power, mycom_capacity, other_loads_basic, \\\n",
    "    heat_load)\n",
    "m_salmon_pumpdown_fuel = m_fuel * n_aft_tank_pulldown\n",
    "\n",
    "# --------------------------- Circ Pump VFD ------------------------\n",
    "## -------------- Bitzer\n",
    "heat_load = heat_load_fcn(aft_tank_capacity, \\\n",
    "    b_heat_infiltration, circ_vfd_ratio = b_circ_vfd_ratio)\n",
    "bv_time, bv_fuel = pulldown_calculator(aft_tank_capacity, \\\n",
    "    bitzer_sst, bitzer_power, bitzer_capacity, \\\n",
    "    b_other_loads_vfd, heat_load)\n",
    "bv_salmon_pumpdown_fuel = bv_fuel * n_aft_tank_pulldown\n",
    "\n",
    "## --------------- Frascold\n",
    "heat_load = heat_load_fcn(aft_tank_capacity, \\\n",
    "    f_heat_infiltration, circ_vfd_ratio = f_circ_vfd_ratio)\n",
    "fv_time, fv_fuel = pulldown_calculator(aft_tank_capacity, \\\n",
    "    frascold_sst, frascold_power, frascold_capacity, \\\n",
    "    f_other_loads_vfd, heat_load)\n",
    "fv_salmon_pumpdown_fuel = fv_fuel * n_aft_tank_pulldown\n",
    "\n",
    "# --------------------------- Results ------------------------------\n",
    "strout = '{:2.1f}'.format(bv_time)\n",
    "print(\"Time to pull down both aft holds once with Bitzer\" + \\\n",
    "      \" and VFD (hrs):\\n \", strout, '\\n')\n",
    "strout = '{:3.1f}'.format(bv_time * n_aft_tank_pulldown)\n",
    "print(\"Time to pull down hold per salmon season with Bitzer\" + \\\n",
    "      \" and VFD \\n (hrs): \", strout, '\\n')\n",
    "strout = '{:4.1f}'.format(bv_salmon_pumpdown_fuel)\n",
    "print(\"Fuel used to pump down holds during salmon season\" + \\\n",
    "      \" with Bitzer \\n and VFD (gal):\", strout, '\\n')\n",
    "strout = '{:2.1f}'.format(b_salmon_pumpdown_fuel)\n",
    "print(\"Fuel used to pump down holds during salmon season\" + \\\n",
    "      \" with Bitzer \\n and no VFD (gal): \", strout, '\\n')\n",
    "strout = '{:2.1f}'.format(fv_time)\n",
    "print(\"Time to pull down both aft holds once with Frascold\" + \\\n",
    "      \" and vfd (hrs):\\n \", strout, '\\n')\n",
    "strout = '{:2.1f}'.format(fv_time*n_aft_tank_pulldown)\n",
    "print(\"Time to pull down hold per salmon season with \" + \\\n",
    "      \"Frascold (hrs):\\n \", strout, '\\n')\n",
    "strout = '{:4.0f}'.format(fv_salmon_pumpdown_fuel)\n",
    "print(\"Fuel used to pump down holds during salmon season \" + \\\n",
    "      \"with Frascold \\nand vfd (gal): \", strout, '\\n')\n",
    "strout = '{:0.0f}'.format(f_time)\n",
    "print(\"Time to pump down aft holds once \" + \\\n",
    "      \"with Frascold and no vfd (hr):\\n \", strout, '\\n')\n",
    "strout = '{:4.0f}'.format(f_salmon_pumpdown_fuel)\n",
    "print(\"Fuel used to pump down holds during salmon season \" + \\\n",
    "      \"with Frascold \\nand no vfd (gal):\\n \", strout, '\\n')\n",
    "strout = '{:2.1f}'.format(m_time)\n",
    "print(\"Time to pull down both aft holds once with Mycom (hrs)\"+\\\n",
    "      \":\\n \", strout, '\\n')\n",
    "strout = '{:3.0f}'.format(m_time*n_aft_tank_pulldown)\n",
    "print(\"Time to pull down hold per salmon season with mycom\" + \\\n",
    "      \" (hrs):\\n \", strout, '\\n')\n",
    "strout = '{:4.0f}'.format(m_salmon_pumpdown_fuel)\n",
    "print(\"Fuel used to pump down holds during salmon season\" + \\\n",
    "      \" with Mycom (gal):\\n \", strout, '\\n')"
   ]
  },
  {
   "cell_type": "markdown",
   "metadata": {},
   "source": [
    "#### Herring season: all holds\n",
    "\n",
    "This section does the same calculation as above, but for the herring season instead of the salmon season. The herring season has a different volume of water to cool and only one pull down cycle instead of 33."
   ]
  },
  {
   "cell_type": "code",
   "execution_count": 17,
   "metadata": {
    "collapsed": false
   },
   "outputs": [
    {
     "name": "stdout",
     "output_type": "stream",
     "text": [
      "time to pull down hold per herring season with Bitzer and VFD (hrs):  28.4 \n",
      "\n",
      "Fuel used to pump down holds during herring season with Bitzer and \n",
      "VFD (gal):  86 \n",
      "\n",
      "Fuel used to pump down holds during herring season with Bitzer and \n",
      "no VFD (gal):  123 \n",
      "\n",
      "time to pull down hold per herring season with Frascold and no \n",
      "VFD (hrs):  94 \n",
      "\n",
      "time to pull down hold per herring season with Frascold and vfd \n",
      "(hrs):  47 \n",
      "\n",
      "Fuel used to pump down holds during herring season with Frascold \n",
      "and no vfd (gal):  314 \n",
      "\n",
      "Fuel used to pump \n",
      "down holds during herring season with Frascold and \n",
      "vfd (gal):  129 \n",
      "\n",
      "time to pull down hold per herring season with mycom (hrs):  41 \n",
      "\n",
      "Fuel used to pump down holds during herring seasonwith Mycom (gal):\n",
      " 150 \n",
      "\n"
     ]
    }
   ],
   "source": [
    "# --------------------------- NO VFD-------------------------------\n",
    "other_loads = noncomp_loads(False)\n",
    "tank_cap = aft_tank_capacity + forward_tank_capacity\n",
    "\n",
    "heat_load = heat_load_fcn(tank_cap,  b_heat_infiltration, \\\n",
    "    circ_vfd_ratio=1)\n",
    "b_time, b_fuel = pulldown_calculator(tank_cap, bitzer_sst, \\\n",
    "    bitzer_power, bitzer_capacity, other_loads_basic, heat_load)\n",
    "b_herring_pumpdown_fuel = b_fuel * n_all_tank_pulldown\n",
    "\n",
    "heat_load = heat_load_fcn(tank_cap, f_heat_infiltration, \\\n",
    "    circ_vfd_ratio=1)\n",
    "f_time, f_fuel = pulldown_calculator(tank_cap, frascold_sst, \\\n",
    "    frascold_power, frascold_capacity, other_loads_basic, \\\n",
    "    heat_load)\n",
    "f_herring_pumpdown_fuel = f_fuel * n_all_tank_pulldown\n",
    "\n",
    "heat_load = heat_load_fcn(tank_cap, m_heat_infiltration, \\\n",
    "    circ_vfd_ratio=1)\n",
    "m_time, m_fuel = pulldown_calculator(tank_cap, mycom_sst, \\\n",
    "    mycom_power, mycom_capacity, other_loads_basic, heat_load)\n",
    "m_herring_pumpdown_fuel = m_fuel * n_all_tank_pulldown\n",
    "\n",
    "# --------------------------- Circ Pump VFD------------------------\n",
    "other_loads = noncomp_loads(True, circ_vfd_ratio = \\\n",
    "    b_circ_vfd_ratio)\n",
    "heat_load= heat_load_fcn(tank_cap, b_heat_infiltration, \\\n",
    "    circ_vfd_ratio = b_circ_vfd_ratio)\n",
    "bv_time, bv_fuel = pulldown_calculator(tank_cap, bitzer_sst, \\\n",
    "    bitzer_power, bitzer_capacity, b_other_loads_vfd, heat_load)\n",
    "bv_herring_pumpdown_fuel = bv_fuel * n_all_tank_pulldown\n",
    "heat_load= heat_load_fcn(tank_cap, f_heat_infiltration, \\\n",
    "    circ_vfd_ratio = f_circ_vfd_ratio)\n",
    "fv_time, fv_fuel = pulldown_calculator(tank_cap, frascold_sst, \\\n",
    "    frascold_power, frascold_capacity, f_other_loads_vfd, \\\n",
    "    heat_load)\n",
    "fv_herring_pumpdown_fuel = fv_fuel * n_all_tank_pulldown\n",
    "\n",
    "# --------------------------- Results ------------------------------\n",
    "strout = '{:2.1f}'.format(bv_time*n_all_tank_pulldown)\n",
    "print(\"time to pull down hold per herring season with \" + \\\n",
    "      \"Bitzer and VFD (hrs): \", strout, '\\n')\n",
    "strout = '{:0.0f}'.format(bv_herring_pumpdown_fuel)\n",
    "print(\"Fuel used to pump down holds during herring season\" + \\\n",
    "      \" with Bitzer and \\nVFD (gal): \", strout, '\\n')\n",
    "strout = '{:0.0f}'.format(b_herring_pumpdown_fuel)\n",
    "print(\"Fuel used to pump down holds during herring season\" + \n",
    "      \" with Bitzer and \\nno VFD (gal): \", strout, '\\n')\n",
    "strout = '{:0.0f}'.format(f_time*n_all_tank_pulldown)\n",
    "print(\"time to pull down hold per herring season with\" +\\\n",
    "      \" Frascold and no \\nVFD (hrs): \", strout, '\\n')\n",
    "strout = '{:0.0f}'.format(fv_time*n_all_tank_pulldown)\n",
    "print(\"time to pull down hold per herring season with\" + \\\n",
    "      \" Frascold and vfd \\n(hrs): \", strout, '\\n')\n",
    "strout = '{:0.0f}'.format(f_herring_pumpdown_fuel)\n",
    "print(\"Fuel used to pump down holds during herring season\" + \\\n",
    "      \" with Frascold \\nand no vfd (gal): \", strout, '\\n')\n",
    "strout = '{:0.0f}'.format(fv_herring_pumpdown_fuel)\n",
    "print(\"Fuel used to pump \\ndown holds during herring season\" + \\\n",
    "      \" with Frascold and \\nvfd (gal): \", strout, '\\n')\n",
    "strout = '{:0.0f}'.format(m_time*n_all_tank_pulldown)\n",
    "print(\"time to pull down hold per herring season with\" + \\\n",
    "      \" mycom (hrs): \", strout, '\\n')\n",
    "strout = '{:0.0f}'.format(m_herring_pumpdown_fuel)\n",
    "print(\"Fuel used to pump down holds during herring season\" + \\\n",
    "      \"with Mycom (gal):\\n\", strout, '\\n')"
   ]
  },
  {
   "cell_type": "code",
   "execution_count": 18,
   "metadata": {
    "collapsed": false
   },
   "outputs": [
    {
     "name": "stdout",
     "output_type": "stream",
     "text": [
      "34408 19448 14960\n"
     ]
    }
   ],
   "source": [
    "print(tank_cap, aft_tank_capacity, forward_tank_capacity)"
   ]
  },
  {
   "cell_type": "markdown",
   "metadata": {},
   "source": [
    "### Maintaining temp"
   ]
  },
  {
   "cell_type": "markdown",
   "metadata": {},
   "source": [
    "There are two subsections here: cooling off fish, and maintaining the hold independently of the fish. The fuel used to cool fish is calculated by assuming that the compressor is operating at conditions when the hold is cold-an SST of 24 degrees. The time to pump out the btus in the fish is calculated at that condition (assuming that the fish have the same heat capacity as water on a mass basis). This time is then subtracted from the total freezer run time to get the time required to simply maintain temperature.\n",
    "\n",
    "The temperature maintenance fuel demand is calculated by assuming that the compressor will run continuously at its minimum speed. The compressor power is then used to calculate the fuel consumption rate."
   ]
  },
  {
   "cell_type": "code",
   "execution_count": 19,
   "metadata": {
    "collapsed": false
   },
   "outputs": [
    {
     "name": "stdout",
     "output_type": "stream",
     "text": [
      "Fuel used to cool fish on board with Bitzer and vfd (gal):  137\n",
      "Fuel used to cool fish on board with Bitzer and no vfd (gal):  169\n",
      "Fuel used to cool fish on board with Frascold and vfd (gal):  127\n",
      "Fuel used to cool fish on board with Frascold (gal) and no vfd:  161\n",
      "Fuel used to cool fish on board with Mycom (gal):  172\n"
     ]
    }
   ],
   "source": [
    "total_maintenance_hrs = 96\n",
    "duty_cycle = 0.5 # this is the fraction of time that the \n",
    "# compressor is on. duty_cycle is assumed to be constant, \n",
    "# although in principle it will depend on system capacity.\n",
    "b_fish_hours = total_maintenance_hrs * duty_cycle\n",
    "bv_fish_hours = total_maintenance_hrs * duty_cycle\n",
    "b_fish_cooling_fuel = b_fish_hours * (fuel_a * \\\n",
    "    (bitzer_power[-1] + other_loads_basic)/ Aux1['gen_eff'] +\\\n",
    "    fuel_b)\n",
    "bv_fish_cooling_fuel = bv_fish_hours * (fuel_a * \\\n",
    "    (bitzer_power[-1] + b_other_loads_vfd[-1]) / \\\n",
    "    Aux1['gen_eff'] + fuel_b)\n",
    "\n",
    "f_fish_hours = total_maintenance_hrs * duty_cycle\n",
    "fv_fish_hours = total_maintenance_hrs * duty_cycle\n",
    "f_fish_cooling_fuel = f_fish_hours * (fuel_a * \\\n",
    "    (frascold_power[-1] + other_loads_basic) / Aux1['gen_eff'] \\\n",
    "    + fuel_b)\n",
    "fv_fish_cooling_fuel = fv_fish_hours * (fuel_a * \\\n",
    "    (frascold_power[-1] + f_other_loads_vfd[-1]) /\\\n",
    "    Aux1['gen_eff'] + fuel_b)\n",
    "\n",
    "m_fish_hours = total_maintenance_hrs * duty_cycle\n",
    "m_fish_cooling_fuel = m_fish_hours * (fuel_a * \\\n",
    "    (mycom_power[-1] + other_loads_basic) / Aux1['gen_eff'] + \\\n",
    "    fuel_b)\n",
    "print(\"Fuel used to cool fish on board with Bitzer and\" + \\\n",
    "      \" vfd (gal): \", '{:0.0f}'.format(bv_fish_cooling_fuel))\n",
    "print(\"Fuel used to cool fish on board with Bitzer and\" + \\\n",
    "      \" no vfd (gal): \", '{:0.0f}'.format(b_fish_cooling_fuel))\n",
    "print(\"Fuel used to cool fish on board with Frascold and\" + \\\n",
    "      \" vfd (gal): \", '{:0.0f}'.format(fv_fish_cooling_fuel))\n",
    "print(\"Fuel used to cool fish on board with Frascold (gal)\" + \\\n",
    "      \" and no vfd: \", '{:0.0f}'.format(f_fish_cooling_fuel))\n",
    "print(\"Fuel used to cool fish on board with Mycom (gal)\" + \\\n",
    "      \": \", '{:0.0f}'.format(m_fish_cooling_fuel))"
   ]
  },
  {
   "cell_type": "code",
   "execution_count": 20,
   "metadata": {
    "collapsed": false
   },
   "outputs": [
    {
     "name": "stdout",
     "output_type": "stream",
     "text": [
      "Total fuel used with the new Bitzer system and no vfd (gal):  1655\n",
      "Total fuel used with the new Bitzer system and vfd (gal):  1336\n",
      "Total fuel used with the new Frascold system and no vfd (gal):  2253\n",
      "Total fuel used with the new Frascold system and vfd (gal):  1609\n",
      "Total fuel used with the Mycom system (gal):  1729\n"
     ]
    }
   ],
   "source": [
    "b_total_fuel = b_fish_cooling_fuel + b_herring_pumpdown_fuel + \\\n",
    "    b_salmon_pumpdown_fuel + filling_fuel\n",
    "f_total_fuel = f_fish_cooling_fuel + f_herring_pumpdown_fuel + \\\n",
    "    f_salmon_pumpdown_fuel + filling_fuel\n",
    "bv_total_fuel = bv_fish_cooling_fuel + bv_herring_pumpdown_fuel\\\n",
    "    + bv_salmon_pumpdown_fuel + filling_fuel_vfd\n",
    "fv_total_fuel = fv_fish_cooling_fuel + fv_herring_pumpdown_fuel\\\n",
    "    + fv_salmon_pumpdown_fuel + filling_fuel_vfd\n",
    "m_total_fuel = m_fish_cooling_fuel + m_herring_pumpdown_fuel + \\\n",
    "    m_salmon_pumpdown_fuel + filling_fuel\n",
    "print(\"Total fuel used with the new Bitzer system and\" \\\n",
    "      \" no vfd (gal): \", '{:4.0f}'.format(b_total_fuel))\n",
    "print(\"Total fuel used with the new Bitzer system and vfd\" \\\n",
    "      \" (gal): \", '{:4.0f}'.format(bv_total_fuel))\n",
    "print(\"Total fuel used with the new Frascold system and\" \\\n",
    "      \" no vfd (gal): \", '{:4.0f}'.format(f_total_fuel))\n",
    "print(\"Total fuel used with the new Frascold system and \" \\\n",
    "      \"vfd (gal): \", '{:4.0f}'.format(fv_total_fuel))\n",
    "print(\"Total fuel used with the Mycom system (gal): \", \\\n",
    "      '{:4.0f}'.format(m_total_fuel))"
   ]
  },
  {
   "cell_type": "markdown",
   "metadata": {},
   "source": [
    "## Alternate Mycom system estimates: \n",
    "### Motor load factor based estimate\n",
    "\n",
    "Prior to getting some data regarding Mycom performance, an estimate of fuel consumption was based on the rated motor capacity and an assumed load factor."
   ]
  },
  {
   "cell_type": "code",
   "execution_count": 21,
   "metadata": {
    "collapsed": false
   },
   "outputs": [
    {
     "name": "stdout",
     "output_type": "stream",
     "text": [
      "Total fuel used with the old system:  1546.00510745\n"
     ]
    }
   ],
   "source": [
    "old_comp_total_kw = (motor_power * motor_load_factor + \\\n",
    "    circ_pump_cap * n_circ_pump  + condenser_pump_cap + \\\n",
    "                     compressor_cool_pump)/Aux1['gen_eff']\n",
    "old_total_fuel = total_time * (fuel_a * old_comp_total_kw + \\\n",
    "                               fuel_b) + filling_fuel\n",
    "print(\"Total fuel used with the old system: \", old_total_fuel)"
   ]
  },
  {
   "cell_type": "code",
   "execution_count": 22,
   "metadata": {
    "collapsed": false
   },
   "outputs": [
    {
     "name": "stdout",
     "output_type": "stream",
     "text": [
      "Average COP is  6.588301221052748\n"
     ]
    }
   ],
   "source": [
    "# the first calculation below does not include heat infiltration\n",
    "# through the hold\n",
    "btus_removed = aft_tank_capacity * water_heat_cap * \\\n",
    "    (sea_temp - target_temp) \n",
    "    \n",
    "# This section calculated btus of heat infiltration\n",
    "# The heat infiltration rate at 33 degrees is divided by two\n",
    "# to approximate the average infiltration rate during a pump\n",
    "# down cycle.\n",
    "heat_in = aft_pump_down_time * water_heat_cap \\\n",
    "    * heat_infiltration_33 / 2* aft_tank_capacity \n",
    "    \n",
    "btus_removed += heat_in\n",
    "capacity = btus_removed / aft_pump_down_time\n",
    "avg_cop = capacity / system_eff * joule_per_btu / sec_per_hr \\\n",
    "    / watt_per_kW / (motor_power * motor_load_factor)\n",
    "print('Average COP is ', avg_cop)"
   ]
  },
  {
   "cell_type": "markdown",
   "metadata": {},
   "source": [
    "### COP based estimate\n",
    "This estimate assumes a COP and calculates the resulting fuel consumption."
   ]
  },
  {
   "cell_type": "code",
   "execution_count": 23,
   "metadata": {
    "collapsed": false
   },
   "outputs": [
    {
     "name": "stdout",
     "output_type": "stream",
     "text": [
      "Total fuel consumed is (gal):  1891\n",
      "Power required is (kW):  [ 45.00506728  37.21221541  29.4103787 ]\n",
      "as SST goes from 42 to 24 deg F.\n"
     ]
    }
   ],
   "source": [
    "cop = 5\n",
    "# factor is a unit conversion defined above\n",
    "power = mycom_capacity / cop * factor\n",
    "heat_load = heat_load_fcn(aft_tank_capacity, m_heat_infiltration, \\\n",
    "    circ_vfd_ratio=1)\n",
    "# Salmon season\n",
    "m_time_c, m_fuel_c = pulldown_calculator(aft_tank_capacity, \n",
    "    mycom_sst, power, mycom_capacity, other_loads_basic, \\\n",
    "    heat_load)\n",
    "m_fuel_salmon = m_fuel_c * n_aft_tank_pulldown\n",
    "# Herring season\n",
    "heat_load = heat_load_fcn(aft_tank_capacity + forward_tank_capacity, \\\n",
    "    m_heat_infiltration, circ_vfd_ratio=1)\n",
    "m_time, m_fuel_c = pulldown_calculator(tank_cap, mycom_sst, \\\n",
    "    power, mycom_capacity, other_loads_basic, heat_load)\n",
    "m_fuel_herring = m_fuel_c * n_all_tank_pulldown\n",
    "# Maintaining temp\n",
    "m_fish_hours = total_maintenance_hrs * duty_cycle\n",
    "m_fuel_maint = m_fish_hours * (fuel_a * \\\n",
    "    (power[-1] + other_loads_basic) / Aux1['gen_eff'] + \\\n",
    "    fuel_b)\n",
    "total_fuel = filling_fuel + m_fuel_salmon + m_fuel_herring + \\\n",
    "    m_fuel_maint\n",
    "print(\"Total fuel consumed is (gal): \", '{:0.0f}'.format(total_fuel))\n",
    "print(\"Power required is (kW): \", power)\n",
    "print(\"as SST goes from \" + '{:0.0f}'.format(mycom_sst[0]) + \\\n",
    "     \" to \" + '{:0.0f}'.format(mycom_sst[-1]) + \" deg F.\" )"
   ]
  },
  {
   "cell_type": "markdown",
   "metadata": {},
   "source": [
    "## Summary\n",
    "\n",
    "The old system was estimated at 1729 gal/yr, while the new system was estimated at 1655 gal/yr with the Bitzer system and 2253 gal/yr with the Frascold system (with no VFD). With a VFD installed on the circ pump, the estimated fuel consumption is 1335 and 1609 gal/yr for the Frascold and the Bitzer, respectively. The Mycom system is modeled to have a lower fuel consumption than the new Frascold system with no VFD primarily because of a change in capacity. The Mycom system is modeled with a higher capacity, which allows the hold to be pumped down faster and reduce fuel. This is particularly impactful when heat infiltration is included. The time to cool is given by the equation below:\n",
    "\n",
    "$$ \\Delta t = \\frac{\\Delta T C_p V}{C_{comp} - h} $$\n",
    "\n",
    "where $\\Delta t$ is the time required to achieve a change in temperature $\\Delta T$, $C_p$ is the heat capacity of water, and $V$ is the volume of water. $C_{comp}$ is the compressor capacity and $h$ is the rate of heat infiltration. As $C_{comp}$ approaches $h$, the $\\Delta t$ increases dramatically. This effect has a large influence on the Frascold system when it is used to cool both holds.\n",
    "\n",
    "\n",
    "There are still problems with these estimates:\n",
    "\n",
    "1.) Specific data for the old compressor is not available. The various estimates for the old compressor performance cannot be verified.\n",
    "\n",
    "2.) Inefficiency beyond manufacturer specs have not been measured, so there is little evidence to support the 0.95 factor used in this analysis."
   ]
  },
  {
   "cell_type": "code",
   "execution_count": null,
   "metadata": {
    "collapsed": true
   },
   "outputs": [],
   "source": []
  }
 ],
 "metadata": {
  "kernelspec": {
   "display_name": "Python 3",
   "language": "python",
   "name": "python3"
  },
  "language_info": {
   "codemirror_mode": {
    "name": "ipython",
    "version": 3
   },
   "file_extension": ".py",
   "mimetype": "text/x-python",
   "name": "python",
   "nbconvert_exporter": "python",
   "pygments_lexer": "ipython3",
   "version": "3.6.0"
  }
 },
 "nbformat": 4,
 "nbformat_minor": 0
}
