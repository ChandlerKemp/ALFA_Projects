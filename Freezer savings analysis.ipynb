{
 "cells": [
  {
   "cell_type": "markdown",
   "metadata": {},
   "source": [
    "# Refrigeration System Analysis\n",
    "\n",
    "This  analyis estimates the fuel savings that could be achieved by upgrading the refrigeration system on board F/V Eigil B. The calculation has three parts: first, parameters of the refrigeration systems are determined. Second, the fuel consumption rate of the generators is calculated as a function of load. Finally, the annual fuel consumption due to refrigeration is calculated based on the generator fuel consumption curves and the refrigeration load."
   ]
  },
  {
   "cell_type": "code",
   "execution_count": 3,
   "metadata": {
    "collapsed": true
   },
   "outputs": [],
   "source": [
    "import numpy as np\n",
    "import matplotlib.pyplot as plt\n",
    "import copy\n",
    "%matplotlib inline\n",
    "water_heat_cap = 8.35 # btu/gal-F\n",
    "joule_per_btu = 1055 \n",
    "sec_per_hr = 3600\n",
    "watt_per_kW = 1000"
   ]
  },
  {
   "cell_type": "markdown",
   "metadata": {},
   "source": [
    "## Freezer load"
   ]
  },
  {
   "cell_type": "markdown",
   "metadata": {},
   "source": [
    "### New Bitzer system\n",
    "Compressor data from Bitzer Software v6.6.0 Open Drive Recips. Model 6F.2-K, Condensing SDT 86 deg F. Liq subc 15 deg F, Suction gas superheat 15 deg F. Motor speed 1750/min, coupling 1:1. The parameter min_power is the power required to run the compressor at the minimum speed (900 r/min) at the minimum sst (24 deg F)."
   ]
  },
  {
   "cell_type": "code",
   "execution_count": 4,
   "metadata": {
    "collapsed": true
   },
   "outputs": [],
   "source": [
    "sst = np.array([42, 40, 38, 36, 34, 32, 30, 28, 26, 24]) #deg F\n",
    "n_comp = 2\n",
    "delta_sst = sst[0]-sst[1]\n",
    "comp_capacity = np.array([463, 442, 422, 403, 385, 367, 349, 333, 317, 301])*1e3*n_comp \n",
    "    #btu/hr\n",
    "comp_power = np.array([22.3, 21.9, 21.6, 21.3, 20.9, 20.6, 20.2, 19.9, 19.57, 19.24])*n_comp \n",
    "    # kW"
   ]
  },
  {
   "cell_type": "code",
   "execution_count": 5,
   "metadata": {
    "collapsed": true
   },
   "outputs": [],
   "source": [
    "sea_temp = 59\n",
    "target_temp = 33\n",
    "aft_tank_capacity = 19448 # gallons\n",
    "forward_tank_capacity = 14960 # gallons\n",
    "n_aft_tank_pulldown = 33 # pulldowns per year\n",
    "n_all_tank_pulldown = 1 # pulldowns per year\n",
    "lbs_fish_cooled = 1.588e6\n",
    "hrs_holding_aft_temp = 48.3\n",
    "hrs_holding_all_temp = 0 # Herring season only--no data available\n",
    "circ_pump_cap = 7.5 * 0.746 # kW\n",
    "n_circ_pump = 2\n",
    "condenser_pump_cap = 3 * 0.746 # kW\n",
    "compressor_cool_pump = 2 * 0.746 # kW\n",
    "hrs_filling_tanks = (64/60 * n_aft_tank_pulldown + 1.9 * n_all_tank_pulldown)*2\n",
    "min_power = 9.51 # kW"
   ]
  },
  {
   "cell_type": "markdown",
   "metadata": {},
   "source": [
    "### Old system"
   ]
  },
  {
   "cell_type": "code",
   "execution_count": 6,
   "metadata": {
    "collapsed": true
   },
   "outputs": [],
   "source": [
    "motor_power = 40 * 0.746 # kW\n",
    "total_time = 504.2 #hrs"
   ]
  },
  {
   "cell_type": "markdown",
   "metadata": {},
   "source": [
    "## Auxiliary Generator BSFC\n",
    "The fuel consumption as a function of load is calculated based on manufacturer's data: Engine Performance Curve John Deere  4045TFM75. John Deere. 2007.  http://silniki.info.pl/upload/pdf/karta%20produktu%204045TFM75%2055%20kW%20@1500%20&%201800.pdf The figure shows that a linear equation fits the data well. The fit shown in the figure below is used in the remainder of the report to estimate fuel consumption."
   ]
  },
  {
   "cell_type": "code",
   "execution_count": 7,
   "metadata": {
    "collapsed": false
   },
   "outputs": [
    {
     "data": {
      "text/plain": [
       "<matplotlib.legend.Legend at 0x1fb3a43ebe0>"
      ]
     },
     "execution_count": 7,
     "metadata": {},
     "output_type": "execute_result"
    },
    {
     "data": {
      "image/png": "[encoded data removed]",
      "text/plain": [
       "<matplotlib.figure.Figure at 0x1fb3a3819e8>"
      ]
     },
     "metadata": {},
     "output_type": "display_data"
    }
   ],
   "source": [
    "Aux1 = {}\n",
    "Aux1['Capacity_kW'] = 65\n",
    "Aux1['Fuel_gal_hr'] = np.array([1.5, 2.8, 4.0, 5.2])\n",
    "# Note: According to the doc, the engine is rated to 73 kW, although the generator on\n",
    "# board is rated to 65 kW. The 73 kW engine rating is used here. The generator load \n",
    "# should be divided by an efficiency of 65/73 to get the engine load.\n",
    "ratedpower = 73 # kW\n",
    "Aux1['gen_eff'] = 65/73\n",
    "Aux1['Power_kW'] = ratedpower * np.array([0.25, 0.5, 0.75, 1.0])\n",
    "Aux1['bsfc_coeffs'] = np.polyfit(Aux1['Power_kW'], Aux1['Fuel_gal_hr'], 1)\n",
    "powertest = np.linspace(0, ratedpower, 100)\n",
    "fueltest = Aux1['bsfc_coeffs'][0]*powertest + Aux1['bsfc_coeffs'][1]\n",
    "plt.plot(Aux1['Power_kW'], Aux1['Fuel_gal_hr'], 'o', label='Mfg data')\n",
    "plt.plot(powertest, fueltest, label='fit')\n",
    "plt.xlabel('Fuel (gal/hr)')\n",
    "plt.ylabel('Engine Power (kW)')\n",
    "plt.legend(loc='best')"
   ]
  },
  {
   "cell_type": "markdown",
   "metadata": {},
   "source": [
    "The second auxiliary generator has the same engine (John Deere 4045TFM75), but the generator is rated to 100 kW rather than 65 kW. Data sheets for the 4045TFM75 reveals that the engine is rated to 80 kW under M1 conditions (operating over 3000 hours per year and load factors over 65%) and to 101 kW under M3 conditions (up to 2000 hours per year, and load factors under 50%). Since the both auxiliary generators use the same engine, the same fuel consumption curve is used for each."
   ]
  },
  {
   "cell_type": "code",
   "execution_count": 9,
   "metadata": {
    "collapsed": false
   },
   "outputs": [],
   "source": [
    "Aux2 = copy.copy(Aux1)\n",
    "Aux2['Capacity_kW'] = 100"
   ]
  },
  {
   "cell_type": "markdown",
   "metadata": {},
   "source": [
    "## Fuel consumption calculation\n",
    "There are three modes considered here:\n",
    "1.) Filling the tanks with water\n",
    "2.) Pulling the hold down to temperature\n",
    "3.) Maintaining hold temperature"
   ]
  },
  {
   "cell_type": "markdown",
   "metadata": {},
   "source": [
    "### Filling tanks"
   ]
  },
  {
   "cell_type": "code",
   "execution_count": 10,
   "metadata": {
    "collapsed": false
   },
   "outputs": [
    {
     "name": "stdout",
     "output_type": "stream",
     "text": [
      "85.1071716923\n"
     ]
    }
   ],
   "source": [
    "load_kw = n_circ_pump * circ_pump_cap / Aux1['gen_eff']\n",
    "fuel_a = Aux1['bsfc_coeffs'][0]\n",
    "fuel_b = Aux1['bsfc_coeffs'][1]\n",
    "filling_fuel = (fuel_a*load_kw + fuel_b) * hrs_filling_tanks\n",
    "print(filling_fuel)"
   ]
  },
  {
   "cell_type": "markdown",
   "metadata": {},
   "source": [
    "### Pulling down hold"
   ]
  },
  {
   "cell_type": "markdown",
   "metadata": {},
   "source": [
    "#### Salmon season: Aft holds only"
   ]
  },
  {
   "cell_type": "code",
   "execution_count": 14,
   "metadata": {
    "collapsed": false
   },
   "outputs": [
    {
     "name": "stdout",
     "output_type": "stream",
     "text": [
      "876.957488662\n"
     ]
    }
   ],
   "source": [
    "btus_removed = aft_tank_capacity * water_heat_cap * (sea_temp - target_temp)\n",
    "btu_per_sst = btus_removed/(delta_sst*len(sst))\n",
    "heat_load = circ_pump_cap / joule_per_btu * watt_per_kW * sec_per_hr # btu/hr\n",
    "extra_loads = circ_pump_cap * n_circ_pump + condenser_pump_cap + compressor_cool_pump\n",
    "# Note: comp_capacity is an array with many entries. The operation below \n",
    "# defines \"times\" as an array with the same dimension.\n",
    "times = btu_per_sst * delta_sst / (comp_capacity - heat_load)\n",
    "salmon_pumpdown_fuel = sum((fuel_a * (comp_power+extra_loads)/Aux1['gen_eff'] + \n",
    "                            fuel_b)*times) * n_aft_tank_pulldown\n",
    "print(salmon_pumpdown_fuel)"
   ]
  },
  {
   "cell_type": "markdown",
   "metadata": {},
   "source": [
    "#### Herring season: all holds"
   ]
  },
  {
   "cell_type": "code",
   "execution_count": 15,
   "metadata": {
    "collapsed": false
   },
   "outputs": [
    {
     "name": "stdout",
     "output_type": "stream",
     "text": [
      "47.016368856\n"
     ]
    }
   ],
   "source": [
    "tank_cap = aft_tank_capacity + forward_tank_capacity\n",
    "btus_removed = tank_cap * water_heat_cap * (sea_temp - target_temp)\n",
    "btu_per_sst = btus_removed/(delta_sst*len(sst))\n",
    "heat_load = circ_pump_cap / joule_per_btu * watt_per_kW * sec_per_hr # btu/hr\n",
    "# times (hrs) is an array with of dimension comp_capacity.shape\n",
    "times = btu_per_sst * delta_sst / (comp_capacity - heat_load)\n",
    "herring_pumpdown_fuel = sum((fuel_a * (comp_power + extra_loads)/Aux1['gen_eff'] + \n",
    "                             fuel_b)*times) * n_all_tank_pulldown\n",
    "print(herring_pumpdown_fuel)"
   ]
  },
  {
   "cell_type": "markdown",
   "metadata": {},
   "source": [
    "### Maintaining temp"
   ]
  },
  {
   "cell_type": "markdown",
   "metadata": {},
   "source": [
    "There are two subsections here: cooling off fish, and maintaining the hold independently of the fish. The fuel used to cool fish is calculated by assuming that the compressor is operating at conditions when the hold is cold-an SST of 24 degrees. The time to pump out the btus in the fish is calculated at that condition (assuming that the fish have the same heat capacity as water on a mass basis). This time is then subtracted from the total freezer run time to get the time required to simply maintain temperature.\n",
    "\n",
    "The temperature maintenance fuel demand is calculated by assuming that the compressor will run continuously at its minimum speed. The compressor power is then used to calculate the fuel consumption rate."
   ]
  },
  {
   "cell_type": "code",
   "execution_count": 16,
   "metadata": {
    "collapsed": false
   },
   "outputs": [
    {
     "name": "stdout",
     "output_type": "stream",
     "text": [
      "307.546316244\n"
     ]
    }
   ],
   "source": [
    "fish_hours = lbs_fish_cooled * (sea_temp-target_temp) * 1 / (comp_capacity[-1]-heat_load)\n",
    "fish_cooling_fuel = fish_hours * (fuel_a * (comp_power[-1] + extra_loads) / \n",
    "                                  Aux1['gen_eff'] + fuel_b)\n",
    "print(fish_cooling_fuel)"
   ]
  },
  {
   "cell_type": "code",
   "execution_count": 17,
   "metadata": {
    "collapsed": false
   },
   "outputs": [
    {
     "data": {
      "text/plain": [
       "70.831067632787395"
      ]
     },
     "execution_count": 17,
     "metadata": {},
     "output_type": "execute_result"
    }
   ],
   "source": [
    "fish_hours"
   ]
  },
  {
   "cell_type": "code",
   "execution_count": 18,
   "metadata": {
    "collapsed": false
   },
   "outputs": [
    {
     "name": "stdout",
     "output_type": "stream",
     "text": [
      "1316.62734545\n"
     ]
    }
   ],
   "source": [
    "total_fuel = fish_cooling_fuel + herring_pumpdown_fuel + salmon_pumpdown_fuel + filling_fuel\n",
    "print(total_fuel)"
   ]
  },
  {
   "cell_type": "markdown",
   "metadata": {},
   "source": [
    "## Old system estimate\n",
    "\n",
    "I haven't been able to find data relating sst to compressor capacity for the old system. To get a rough estimate, I simply assume that the compressor motor runs at its rated power all the time."
   ]
  },
  {
   "cell_type": "code",
   "execution_count": 19,
   "metadata": {
    "collapsed": false
   },
   "outputs": [
    {
     "name": "stdout",
     "output_type": "stream",
     "text": [
      "1944.59056615\n"
     ]
    }
   ],
   "source": [
    "old_comp_total_kw = (motor_power + circ_pump_cap * n_circ_pump + condenser_pump_cap + \n",
    "                     compressor_cool_pump)/Aux1['gen_eff']\n",
    "old_total_fuel = total_time * (fuel_a * old_comp_total_kw + fuel_b) + filling_fuel\n",
    "print(old_total_fuel)"
   ]
  },
  {
   "cell_type": "markdown",
   "metadata": {},
   "source": [
    "## Summary\n",
    "\n",
    "The old system was estimated at 1944 gal/yr, while the new system was estimated at 1317 gal/yr. However, there are numerous problems with these estimates:\n",
    "\n",
    "1.) The compressor motor does not run at rated power all the time in the old system, but that is how it was modeled in the above calculations. The motor is likely oversized and never actually reaches full power. Once the hold is cold, the compressor probably cycles on and off with some unknown duty cycle (although this won't have much effect on the results, since so little time is allocated to maintaining temperature).\n",
    "\n",
    "2.) The heating load only accounts for heat from the circ pumps; not heat infiltration through the hold insulation was included.\n",
    "\n",
    "3.) With the new system, 70 hours were allocated to cooling fish. This is more than the total recorded hold maintenance time. It may be that the vessel off loads fish before they reach 33 deg F (assuming that the reported transit/maintenance time is correct).\n",
    "\n",
    "4.) All estimates are based on name plate data, with little to no allowance for inefficiencies."
   ]
  }
 ],
 "metadata": {
  "kernelspec": {
   "display_name": "Python 3",
   "language": "python",
   "name": "python3"
  },
  "language_info": {
   "codemirror_mode": {
    "name": "ipython",
    "version": 3
   },
   "file_extension": ".py",
   "mimetype": "text/x-python",
   "name": "python",
   "nbconvert_exporter": "python",
   "pygments_lexer": "ipython3",
   "version": "3.5.1"
  }
 },
 "nbformat": 4,
 "nbformat_minor": 0
}
