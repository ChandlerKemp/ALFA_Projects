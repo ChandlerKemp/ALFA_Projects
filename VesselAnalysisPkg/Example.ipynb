{
 "cells": [
  {
   "cell_type": "markdown",
   "metadata": {},
   "source": [
    "# Example Vessel Analysis Jupyter Notebook\n",
    "\n",
    "This is an example of a Jupyter Notebook using the Vessel Analysis Package. The notebook shows how data can be loaded from a csv file and analyzed using pre-made functions to generate useful visualizations. This notebook is interactive: you may run any cell by clicking in the sell and then pressing shift-enter. The notebook is also read-only, so you can experiment liberally and none of your changes will be saved."
   ]
  },
  {
   "cell_type": "markdown",
   "metadata": {},
   "source": [
    "## Imports\n",
    "The code cell below imports necessary packages modules."
   ]
  },
  {
   "cell_type": "code",
   "execution_count": 1,
   "metadata": {},
   "outputs": [],
   "source": [
    "import os\n",
    "os.chdir('..')\n",
    "import VesselAnalysisPkg as VA\n",
    "import matplotlib as plt"
   ]
  },
  {
   "cell_type": "markdown",
   "metadata": {},
   "source": [
    "## Loading data\n",
    "The Vessel Analysis package is designed to aid in analyzing vessel data, but since vessel owners own their data, I'll look at some weather data for Juneau, AK. I've downloaded one year's data from noaa.gov, and saved it in a comma-separated-variables (CSV) file. I want to make a histogram of daily median temperature versus time.\n",
    "\n",
    "The first step is to load data from the file. I can do that by creating a realization of the CSV_General class declared in the csv_data_processing module. The class takes a filepath as an input parameter. I can also specify the number of header rows before the first data record (2 in this case), and the columns that I want to load. The number of header rows is an optional argument, so it must be specified using the following format: *input value name*:value. Temperature lows are stored in column 2 (counting from 0 for the first column), so I'll pass that index to the class declaration as well. The column load index must be passed to the class as a dict of key word arguments. The key (or keys if more than one column is loaded) will become the name of the attribute where the data is stored."
   ]
  },
  {
   "cell_type": "code",
   "execution_count": 29,
   "metadata": {},
   "outputs": [],
   "source": [
    "# Define specifications for data load:\n",
    "filepath = 'VesselAnalysisPkg/Examples/JuneauWeatherData.csv'\n",
    "nheaders = 2\n",
    "datacolumns = {'daily_low':9, 'daily_high':8}\n",
    "\n",
    "# Load the data:\n",
    "jnuweather = VA.csv_data_processing.CSV_General(filepath, \n",
    "                                               n_headerlines=nheaders,\n",
    "                                               **datacolumns)\n",
    "medtemp = (jnuweather.daily_low + jnuweather.daily_high)/2\n",
    "# missing data were recorded as -9999, so I'll filter those out:\n",
    "medtemp = medtemp[medtemp!=-9999]"
   ]
  },
  {
   "cell_type": "markdown",
   "metadata": {},
   "source": [
    "## Plotting data\n",
    "The standard matplotlib package has a histogram function, but the labels tend to be too small, and the bin counts are absolute rather than relative. The Vessel Analysis Package includes functions to automatically adjust the font labels and bin counts, so I'll use that here."
   ]
  },
  {
   "cell_type": "code",
   "execution_count": 30,
   "metadata": {},
   "outputs": [
    {
     "data": {
      "image/png": "[encoded data removed]",
      "text/plain": [
       "<matplotlib.figure.Figure at 0x7f442b3fa160>"
      ]
     },
     "metadata": {},
     "output_type": "display_data"
    }
   ],
   "source": [
    "# Instruct the notebook to display the plot\n",
    "%matplotlib inline\n",
    "# Create the plot and store the counts, bin edges\n",
    "# and plot handle in cnts, bins and hndl, respectively.\n",
    "cnts, bins, hndl = VA.plotting_functions.hist_plot(medtemp,\n",
    "                                                   xlabel=\"Temperature (deg F)\")"
   ]
  },
  {
   "cell_type": "markdown",
   "metadata": {},
   "source": [
    "## Conclusion\n",
    "Deploying the Vessel Analysis Package in a Jupyter Notebook provides an simple means for sharing analyses of vessel data. The notebooks can be accessed and used interactivel from anywhere with internet access without any program installation required. The examples shown here demonstrate how to call basic functions within the package. The Vessel Analysis Package also includes functions to automatically load data from a variety of recording devices used during sea trials and long term recording sessions; tools to extract the rpm, power, speed and fuel consumption relationships measured during sea trials; and methods for storing and visualzing data associated with a vessel."
   ]
  }
 ],
 "metadata": {
  "kernelspec": {
   "display_name": "Python 3",
   "language": "python",
   "name": "python3"
  },
  "language_info": {
   "codemirror_mode": {
    "name": "ipython",
    "version": 3
   },
   "file_extension": ".py",
   "mimetype": "text/x-python",
   "name": "python",
   "nbconvert_exporter": "python",
   "pygments_lexer": "ipython3",
   "version": "3.6.0"
  }
 },
 "nbformat": 4,
 "nbformat_minor": 2
}
